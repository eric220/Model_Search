{
 "cells": [
  {
   "cell_type": "code",
   "execution_count": 1,
   "metadata": {},
   "outputs": [
    {
     "name": "stderr",
     "output_type": "stream",
     "text": [
      "Using TensorFlow backend.\n"
     ]
    }
   ],
   "source": [
    "import pandas as pd\n",
    "import numpy as np\n",
    "from keras.models import Sequential, load_model\n",
    "from keras.layers import Dense, Dropout\n",
    "import matplotlib.pyplot as plt\n",
    "from keras.regularizers import l2\n",
    "from sklearn.metrics import confusion_matrix, roc_auc_score\n",
    "from keras.callbacks import ModelCheckpoint, ReduceLROnPlateau, EarlyStopping\n",
    "from keras.optimizers import SGD, Adam"
   ]
  },
  {
   "cell_type": "code",
   "execution_count": 8,
   "metadata": {},
   "outputs": [],
   "source": [
    "###GET DATA\n",
    "df = pd.read_csv('scaled.csv')"
   ]
  },
  {
   "cell_type": "code",
   "execution_count": 9,
   "metadata": {},
   "outputs": [
    {
     "data": {
      "text/html": [
       "<div>\n",
       "<style scoped>\n",
       "    .dataframe tbody tr th:only-of-type {\n",
       "        vertical-align: middle;\n",
       "    }\n",
       "\n",
       "    .dataframe tbody tr th {\n",
       "        vertical-align: top;\n",
       "    }\n",
       "\n",
       "    .dataframe thead th {\n",
       "        text-align: right;\n",
       "    }\n",
       "</style>\n",
       "<table border=\"1\" class=\"dataframe\">\n",
       "  <thead>\n",
       "    <tr style=\"text-align: right;\">\n",
       "      <th></th>\n",
       "      <th>Pregnancies</th>\n",
       "      <th>Glucose</th>\n",
       "      <th>BloodPressure</th>\n",
       "      <th>SkinThickness</th>\n",
       "      <th>Insulin</th>\n",
       "      <th>BMI</th>\n",
       "      <th>DiabetesPedigreeFunction</th>\n",
       "      <th>Age</th>\n",
       "    </tr>\n",
       "  </thead>\n",
       "  <tbody>\n",
       "    <tr>\n",
       "      <th>0</th>\n",
       "      <td>0.367647</td>\n",
       "      <td>0.719347</td>\n",
       "      <td>0.581148</td>\n",
       "      <td>0.368182</td>\n",
       "      <td>0.194613</td>\n",
       "      <td>0.500671</td>\n",
       "      <td>0.260974</td>\n",
       "      <td>0.485</td>\n",
       "    </tr>\n",
       "    <tr>\n",
       "      <th>1</th>\n",
       "      <td>0.102941</td>\n",
       "      <td>0.434422</td>\n",
       "      <td>0.536885</td>\n",
       "      <td>0.313636</td>\n",
       "      <td>0.104647</td>\n",
       "      <td>0.406781</td>\n",
       "      <td>0.154910</td>\n",
       "      <td>0.200</td>\n",
       "    </tr>\n",
       "    <tr>\n",
       "      <th>2</th>\n",
       "      <td>0.473529</td>\n",
       "      <td>0.877638</td>\n",
       "      <td>0.522131</td>\n",
       "      <td>0.184967</td>\n",
       "      <td>0.148408</td>\n",
       "      <td>0.362519</td>\n",
       "      <td>0.278266</td>\n",
       "      <td>0.215</td>\n",
       "    </tr>\n",
       "    <tr>\n",
       "      <th>3</th>\n",
       "      <td>0.102941</td>\n",
       "      <td>0.452513</td>\n",
       "      <td>0.536885</td>\n",
       "      <td>0.259091</td>\n",
       "      <td>0.150000</td>\n",
       "      <td>0.426900</td>\n",
       "      <td>0.084202</td>\n",
       "      <td>0.050</td>\n",
       "    </tr>\n",
       "    <tr>\n",
       "      <th>4</th>\n",
       "      <td>0.050000</td>\n",
       "      <td>0.669598</td>\n",
       "      <td>0.345082</td>\n",
       "      <td>0.368182</td>\n",
       "      <td>0.228723</td>\n",
       "      <td>0.628092</td>\n",
       "      <td>0.899274</td>\n",
       "      <td>0.230</td>\n",
       "    </tr>\n",
       "  </tbody>\n",
       "</table>\n",
       "</div>"
      ],
      "text/plain": [
       "   Pregnancies   Glucose  BloodPressure  SkinThickness   Insulin       BMI  \\\n",
       "0     0.367647  0.719347       0.581148       0.368182  0.194613  0.500671   \n",
       "1     0.102941  0.434422       0.536885       0.313636  0.104647  0.406781   \n",
       "2     0.473529  0.877638       0.522131       0.184967  0.148408  0.362519   \n",
       "3     0.102941  0.452513       0.536885       0.259091  0.150000  0.426900   \n",
       "4     0.050000  0.669598       0.345082       0.368182  0.228723  0.628092   \n",
       "\n",
       "   DiabetesPedigreeFunction    Age  \n",
       "0                  0.260974  0.485  \n",
       "1                  0.154910  0.200  \n",
       "2                  0.278266  0.215  \n",
       "3                  0.084202  0.050  \n",
       "4                  0.899274  0.230  "
      ]
     },
     "execution_count": 9,
     "metadata": {},
     "output_type": "execute_result"
    }
   ],
   "source": [
    "labels = df['Outcome']\n",
    "df.drop(['Outcome'], inplace = True, axis = 1)\n",
    "df.head()"
   ]
  },
  {
   "cell_type": "code",
   "execution_count": 10,
   "metadata": {},
   "outputs": [],
   "source": [
    "labels = [1 if i == .95 else 0 for i in labels]"
   ]
  },
  {
   "cell_type": "code",
   "execution_count": 11,
   "metadata": {},
   "outputs": [],
   "source": [
    "assert(len(labels) == len(df))"
   ]
  },
  {
   "cell_type": "code",
   "execution_count": 12,
   "metadata": {},
   "outputs": [],
   "source": [
    "x_train, x_test = np.array(df[:623]), np.array(df[623:])\n",
    "y_train, y_test = np.array(labels[:623]), np.array(labels[623:])"
   ]
  },
  {
   "cell_type": "code",
   "execution_count": 13,
   "metadata": {},
   "outputs": [],
   "source": [
    "new_df = pd.DataFrame()"
   ]
  },
  {
   "cell_type": "code",
   "execution_count": 42,
   "metadata": {},
   "outputs": [
    {
     "data": {
      "text/plain": [
       "array(['Unnamed: 0', '0', '1', '2', '3', '4', '5', '6', '7', '8', '9',\n",
       "       '10', '11', '12', '13', '14', '15', '16', '17', '18', '19', '20',\n",
       "       '21', '22', '23', '24', '25', '26', '27'], dtype=object)"
      ]
     },
     "execution_count": 42,
     "metadata": {},
     "output_type": "execute_result"
    }
   ],
   "source": [
    "X.columns.values"
   ]
  },
  {
   "cell_type": "code",
   "execution_count": 44,
   "metadata": {},
   "outputs": [],
   "source": [
    "##CHURN\n",
    "col_names = ['0', '1', '2', '3', '4', '5', '6', '7', '8', '9',\n",
    "       '10', '11', '12', '13', '14', '15', '16', '17', '18', '19', '20',\n",
    "       '21', '22', '23', '24', '25', '26', '27']\n",
    "X = pd.read_csv('churn_features.csv')\n",
    "Y = pd.read_csv('churn_labels.csv')\n",
    "y = Y['0'].copy()\n",
    "x = X[col_names].copy()"
   ]
  },
  {
   "cell_type": "code",
   "execution_count": 45,
   "metadata": {},
   "outputs": [],
   "source": [
    "##CHURN\n",
    "x_train, x_test = np.array(x[:6000]), np.array(x[6000:])\n",
    "y_train, y_test = np.array(y[:6000]), np.array(y[6000:])"
   ]
  },
  {
   "cell_type": "code",
   "execution_count": 47,
   "metadata": {},
   "outputs": [],
   "source": [
    "search_space = {\n",
    "    'size': [8, 16, 32, 64, 128], \n",
    "    'layers': [1, 2, 3],\n",
    "    'nodes': [32, 64,128, 512, 1024],\n",
    "    'activation': ['relu', 'tanh'],\n",
    "    'optimizers': ['sgd', 'adam'],\n",
    "    'dropout': [0, .3, .4, .5, .6, .7]\n",
    "}\n",
    "\n",
    "#initial random probabilities\n",
    "start_probs = {\n",
    "    'model_size': [.2, .2, .2, .2, .2], \n",
    "    'model_layers': [.33, .34, .33],\n",
    "    'model_optimizers': [0.5, 0.5],\n",
    "    'input_nodes': [.2, .2, .2, .2, .2],\n",
    "    'input_activation': [.5, .5],\n",
    "    'input_dropout': [.1666, .1666, .167, .1666, .1666, .1666],\n",
    "    'layer_1_nodes': [.2, .2, .2, .2, .2],\n",
    "    'layer_1_activation': [.5, .5],\n",
    "    'layer_1_dropout': [.1666, .1666, .167, .1666, .1666, .1666],\n",
    "    'layer_2_nodes': [.2, .2, .2, .2, .2],\n",
    "    'layer_2_activation': [.5, .5],\n",
    "    'layer_2_dropout': [.1666, .1666, .167, .1666, .1666, .1666],\n",
    "    'layer_3_nodes': [.2, .2, .2, .2, .2],\n",
    "    'layer_3_activation': [.5, .5],\n",
    "    'layer_3_dropout': [.1666, .1666, .167, .1666, .1666, .1666],\n",
    "}\n",
    "\n",
    "#return random parameter\n",
    "def random_hyper_parameters(param, layer):\n",
    "    hps = np.random.choice(search_space[param], p = start_probs['{}_{}' .format(layer, param)])\n",
    "    return hps"
   ]
  },
  {
   "cell_type": "code",
   "execution_count": 50,
   "metadata": {},
   "outputs": [
    {
     "data": {
      "text/plain": [
       "512"
      ]
     },
     "execution_count": 50,
     "metadata": {},
     "output_type": "execute_result"
    }
   ],
   "source": [
    "random_hyper_parameters('nodes', 'layer_1')"
   ]
  },
  {
   "cell_type": "code",
   "execution_count": 51,
   "metadata": {},
   "outputs": [],
   "source": [
    "def random_model_search(num_models, best_score, num):\n",
    "    for j in range(0, num_models):\n",
    "        model_dict = {}\n",
    "        input_shape = x_train.shape[1]\n",
    "        r_model = Sequential()\n",
    "        input_nodes = random_hyper_parameters('nodes','input')\n",
    "        input_activation = random_hyper_parameters('activation', 'input')\n",
    "        input_dropout = random_hyper_parameters('dropout', 'input')\n",
    "        \n",
    "        model_dict['input_nodes'] = input_nodes\n",
    "        model_dict['input_activation'] = input_activation\n",
    "        model_dict['input_dropout'] = input_dropout\n",
    "        \n",
    "        r_model.add(Dense(input_nodes, input_shape = (input_shape,), activation = input_activation, activity_regularizer = l2(0.001),\n",
    "               kernel_initializer = 'truncated_normal'))\n",
    "        r_model.add(Dropout(input_dropout))\n",
    "        \n",
    "        \n",
    "        hidden = random_hyper_parameters('layers', 'model')\n",
    "        model_dict['model_layers'] = hidden\n",
    "        \n",
    "        for i in range(int(hidden)):\n",
    "            layer_name = 'layer_{}' .format(i + 1)\n",
    "            hidden_nodes = random_hyper_parameters('nodes', layer_name)\n",
    "            hidden_activation = random_hyper_parameters('activation', layer_name)\n",
    "            r_model.add(Dense(hidden_nodes, activation = hidden_activation, activity_regularizer = l2(0.001),\n",
    "               kernel_initializer = 'truncated_normal'))\n",
    "            dropout = random_hyper_parameters('dropout', layer_name)\n",
    "            r_model.add(Dropout(dropout))\n",
    "            \n",
    "            model_dict['{}_nodes' .format(layer_name)] = hidden_nodes\n",
    "            model_dict['{}_activation' .format(layer_name)] = hidden_activation\n",
    "            model_dict['{}_dropout' .format(layer_name)] = dropout\n",
    "        \n",
    "        r_model.add(Dense(1, activation = 'sigmoid'))\n",
    "    \n",
    "        ###Create checkpoint\n",
    "        r_callbacks = ModelCheckpoint(filepath = 'churn_weights_r.hdf5', monitor = 'val_loss', save_best_only = True, verbose = False)\n",
    "        r_reduce_lr = ReduceLROnPlateau(monitor='val_loss', factor=0.5, patience=20, min_lr=0.00001, verbose = 0)\n",
    "        r_early_stop = EarlyStopping(monitor='val_loss', min_delta=0, patience=60, restore_best_weights=True)\n",
    "      \n",
    "        ##compile\n",
    "        optimizer = random_hyper_parameters('optimizers', 'model')\n",
    "        r_model.compile(loss = 'binary_crossentropy', optimizer = optimizer, metrics = ['acc'] )\n",
    "    \n",
    "        batch_size = random_hyper_parameters('size', 'model')\n",
    "        \n",
    "        model_dict['model_optimizers'] = optimizer\n",
    "        model_dict['model_size'] = batch_size\n",
    "        ###\n",
    "        history = r_model.fit(x_train, y_train, epochs = 1000, validation_split = 0.1, batch_size = batch_size, verbose = 0, callbacks = [r_callbacks, r_reduce_lr, r_early_stop])\n",
    "    \n",
    "    \n",
    "        r_model.load_weights('churn_weights_r.hdf5')\n",
    "        \n",
    "        #new_preds = r_model.predict(x_test)\n",
    "        #new_pred = (new_preds > 0.5).astype('int')\n",
    "        #new_score = roc_auc_score(y_test, new_pred)\n",
    "        \n",
    "        new_score = r_model.evaluate(x_test, y_test)\n",
    "        new_score = new_score[1]\n",
    "        #print(new_score)\n",
    "        model_dict['score'] = new_score\n",
    "        \n",
    "        #compare to best score, if best, store model\n",
    "        #print('New Score:{}, Best Score:{}' .format(new_score, best_score))\n",
    "        if new_score >= best_score:\n",
    "            #print('saving model')\n",
    "            r_model.save('churn_model.h5' .format(num))  \n",
    "            best_score = new_score\n",
    "        del r_model\n",
    "        \n",
    "        global new_df\n",
    "        t_df = pd.DataFrame([model_dict])\n",
    "        new_df = new_df.append(t_df, ignore_index = True, sort = True)\n",
    "      \n",
    "    return best_score"
   ]
  },
  {
   "cell_type": "code",
   "execution_count": 52,
   "metadata": {},
   "outputs": [],
   "source": [
    "#sorted_df = new_df.sort_values(by = 'score')\n",
    "#tail_df = sorted_df.tail(15).copy()\n",
    "#tail_df.tail(15)\n",
    "#sorted_df"
   ]
  },
  {
   "cell_type": "code",
   "execution_count": 53,
   "metadata": {},
   "outputs": [],
   "source": [
    "def get_new_dists():\n",
    "    global new_df\n",
    "    \n",
    "    top_num = 3#int(len(new_df)*.2)\n",
    "    dists = {}\n",
    "    sorted_df = new_df.sort_values(by = 'score')\n",
    "    tail_df = sorted_df.tail(top_num).copy()\n",
    "    \n",
    "    for i in tail_df:\n",
    "        if i != 'score':\n",
    "            idx = i.split('_')[-1:][0]\n",
    "            t_df = tail_df[i].value_counts()\n",
    "            t_df = t_df.reindex(search_space[idx])\n",
    "            t_df.fillna(0, inplace = True)\n",
    "            values = t_df.values\n",
    "            new_dist = []\n",
    "            value_sum = sum(values)\n",
    "            for n in range(len(values)):\n",
    "                lr = .2\n",
    "                new = values[n]/float(value_sum) ###HELP\n",
    "                orig = start_probs[i][n]\n",
    "                y = orig - ((orig-new)*lr)\n",
    "                new_dist.append(y)  \n",
    "            dists[i] = new_dist\n",
    "    return dists\n",
    "            \n",
    "#start_probs = get_new_dists()"
   ]
  },
  {
   "cell_type": "code",
   "execution_count": 54,
   "metadata": {},
   "outputs": [],
   "source": [
    "#start_probs"
   ]
  },
  {
   "cell_type": "code",
   "execution_count": 55,
   "metadata": {},
   "outputs": [
    {
     "data": {
      "text/plain": [
       "0"
      ]
     },
     "execution_count": 55,
     "metadata": {},
     "output_type": "execute_result"
    }
   ],
   "source": [
    "len(new_df)"
   ]
  },
  {
   "cell_type": "code",
   "execution_count": 56,
   "metadata": {},
   "outputs": [],
   "source": [
    "def build_model():\n",
    "    best_score = 0\n",
    "    for i in range(10):\n",
    "        t_score = random_model_search(10, best_score, i) ###add best score to rms\n",
    "        best_score = t_score\n",
    "        global start_probs\n",
    "        start_probs = get_new_dists()"
   ]
  },
  {
   "cell_type": "code",
   "execution_count": 57,
   "metadata": {},
   "outputs": [
    {
     "name": "stdout",
     "output_type": "stream",
     "text": [
      "1032/1032 [==============================] - 0s 37us/step\n",
      "1032/1032 [==============================] - 0s 55us/step\n",
      "1032/1032 [==============================] - 0s 62us/step\n",
      "1032/1032 [==============================] - 0s 45us/step\n",
      "1032/1032 [==============================] - 0s 96us/step\n",
      "1032/1032 [==============================] - 0s 84us/step\n",
      "1032/1032 [==============================] - 0s 68us/step\n",
      "1032/1032 [==============================] - 0s 66us/step\n",
      "1032/1032 [==============================] - 0s 42us/step\n",
      "1032/1032 [==============================] - 0s 117us/step\n"
     ]
    },
    {
     "name": "stderr",
     "output_type": "stream",
     "text": [
      "/Users/ericcriteser/anaconda2/envs/deeplearning/lib/python2.7/site-packages/ipykernel_launcher.py:20: RuntimeWarning: invalid value encountered in double_scalars\n"
     ]
    },
    {
     "name": "stdout",
     "output_type": "stream",
     "text": [
      "1032/1032 [==============================] - 0s 67us/step\n",
      "1032/1032 [==============================] - 0s 46us/step\n",
      "1032/1032 [==============================] - 0s 54us/step\n",
      "1032/1032 [==============================] - 0s 83us/step\n",
      "1032/1032 [==============================] - 0s 50us/step\n",
      "1032/1032 [==============================] - 0s 67us/step\n",
      "1032/1032 [==============================] - 0s 74us/step\n",
      "1032/1032 [==============================] - 0s 87us/step\n"
     ]
    },
    {
     "name": "stderr",
     "output_type": "stream",
     "text": [
      "/Users/ericcriteser/anaconda2/envs/deeplearning/lib/python2.7/site-packages/ipykernel_launcher.py:31: RuntimeWarning: invalid value encountered in less\n"
     ]
    },
    {
     "name": "stdout",
     "output_type": "stream",
     "text": [
      "1032/1032 [==============================] - 0s 63us/step\n",
      "1032/1032 [==============================] - 0s 131us/step\n",
      "1032/1032 [==============================] - 0s 49us/step\n",
      "1032/1032 [==============================] - 0s 64us/step\n",
      "1032/1032 [==============================] - 0s 72us/step\n",
      "1032/1032 [==============================] - 0s 60us/step\n",
      "1032/1032 [==============================] - 0s 80us/step\n",
      "1032/1032 [==============================] - 0s 84us/step\n",
      "1032/1032 [==============================] - 0s 77us/step\n",
      "1032/1032 [==============================] - 0s 86us/step\n",
      "1032/1032 [==============================] - 0s 76us/step\n",
      "1032/1032 [==============================] - 0s 91us/step\n",
      "1032/1032 [==============================] - 0s 61us/step\n",
      "1032/1032 [==============================] - 0s 56us/step\n",
      "1032/1032 [==============================] - 0s 91us/step\n",
      "1032/1032 [==============================] - 0s 93us/step\n",
      "1032/1032 [==============================] - 0s 70us/step\n",
      "1032/1032 [==============================] - 0s 90us/step\n",
      "1032/1032 [==============================] - 0s 118us/step\n",
      "1032/1032 [==============================] - 0s 57us/step\n",
      "1032/1032 [==============================] - 0s 75us/step\n",
      "1032/1032 [==============================] - 0s 75us/step\n",
      "1032/1032 [==============================] - 0s 71us/step\n",
      "1032/1032 [==============================] - 0s 71us/step\n",
      "1032/1032 [==============================] - 0s 85us/step\n",
      "1032/1032 [==============================] - 0s 67us/step\n",
      "1032/1032 [==============================] - 0s 97us/step\n",
      "1032/1032 [==============================] - 0s 68us/step\n",
      "1032/1032 [==============================] - 0s 93us/step\n",
      "1032/1032 [==============================] - 0s 82us/step\n",
      "1032/1032 [==============================] - 0s 76us/step\n",
      "1032/1032 [==============================] - 0s 95us/step\n",
      "1032/1032 [==============================] - 0s 75us/step\n",
      "1032/1032 [==============================] - 0s 115us/step\n",
      "1032/1032 [==============================] - 0s 66us/step\n",
      "1032/1032 [==============================] - 0s 81us/step\n",
      "1032/1032 [==============================] - 0s 89us/step\n",
      "1032/1032 [==============================] - 0s 153us/step\n",
      "1032/1032 [==============================] - 0s 70us/step\n",
      "1032/1032 [==============================] - 0s 72us/step\n",
      "1032/1032 [==============================] - 0s 132us/step\n",
      "1032/1032 [==============================] - 0s 84us/step\n",
      "1032/1032 [==============================] - 0s 75us/step\n",
      "1032/1032 [==============================] - 0s 107us/step\n",
      "1032/1032 [==============================] - 0s 95us/step\n",
      "1032/1032 [==============================] - 0s 75us/step\n",
      "1032/1032 [==============================] - 0s 84us/step\n",
      "1032/1032 [==============================] - 0s 83us/step\n",
      "1032/1032 [==============================] - 0s 78us/step\n",
      "1032/1032 [==============================] - 0s 89us/step\n",
      "1032/1032 [==============================] - 0s 125us/step\n",
      "1032/1032 [==============================] - 0s 97us/step\n",
      "1032/1032 [==============================] - 0s 86us/step\n",
      "1032/1032 [==============================] - 0s 79us/step\n",
      "1032/1032 [==============================] - 0s 88us/step\n",
      "1032/1032 [==============================] - 0s 99us/step\n",
      "1032/1032 [==============================] - 0s 112us/step\n",
      "1032/1032 [==============================] - 0s 84us/step\n",
      "1032/1032 [==============================] - 0s 113us/step\n",
      "1032/1032 [==============================] - 0s 99us/step\n",
      "1032/1032 [==============================] - 0s 78us/step\n",
      "1032/1032 [==============================] - 0s 103us/step\n",
      "1032/1032 [==============================] - 0s 98us/step\n",
      "1032/1032 [==============================] - 0s 111us/step\n",
      "1032/1032 [==============================] - 0s 109us/step\n",
      "1032/1032 [==============================] - 0s 87us/step\n",
      "1032/1032 [==============================] - 0s 84us/step\n",
      "1032/1032 [==============================] - 0s 93us/step\n",
      "1032/1032 [==============================] - 0s 84us/step\n",
      "1032/1032 [==============================] - 0s 80us/step\n",
      "1032/1032 [==============================] - 0s 120us/step\n",
      "1032/1032 [==============================] - 0s 115us/step\n",
      "1032/1032 [==============================] - 0s 110us/step\n",
      "1032/1032 [==============================] - 0s 97us/step\n",
      "1032/1032 [==============================] - 0s 92us/step\n",
      "1032/1032 [==============================] - 0s 92us/step\n",
      "1032/1032 [==============================] - 0s 123us/step\n",
      "1032/1032 [==============================] - 0s 94us/step\n",
      "1032/1032 [==============================] - 0s 86us/step\n",
      "1032/1032 [==============================] - 0s 92us/step\n",
      "1032/1032 [==============================] - 0s 93us/step\n",
      "1032/1032 [==============================] - 0s 119us/step\n"
     ]
    }
   ],
   "source": [
    "build_model()"
   ]
  },
  {
   "cell_type": "code",
   "execution_count": 63,
   "metadata": {},
   "outputs": [],
   "source": [
    "test_model = load_model('churn_model.h5')"
   ]
  },
  {
   "cell_type": "code",
   "execution_count": 64,
   "metadata": {},
   "outputs": [
    {
     "name": "stdout",
     "output_type": "stream",
     "text": [
      "_________________________________________________________________\n",
      "Layer (type)                 Output Shape              Param #   \n",
      "=================================================================\n",
      "dense_327 (Dense)            (None, 128)               3712      \n",
      "_________________________________________________________________\n",
      "dropout_237 (Dropout)        (None, 128)               0         \n",
      "_________________________________________________________________\n",
      "dense_328 (Dense)            (None, 1024)              132096    \n",
      "_________________________________________________________________\n",
      "dropout_238 (Dropout)        (None, 1024)              0         \n",
      "_________________________________________________________________\n",
      "dense_329 (Dense)            (None, 1)                 1025      \n",
      "=================================================================\n",
      "Total params: 136,833\n",
      "Trainable params: 136,833\n",
      "Non-trainable params: 0\n",
      "_________________________________________________________________\n"
     ]
    }
   ],
   "source": [
    "test_model.summary()"
   ]
  },
  {
   "cell_type": "code",
   "execution_count": 65,
   "metadata": {},
   "outputs": [
    {
     "name": "stdout",
     "output_type": "stream",
     "text": [
      "1032/1032 [==============================] - 3s 3ms/step\n"
     ]
    },
    {
     "data": {
      "text/plain": [
       "[0.43818934042324392, 0.81104651162790697]"
      ]
     },
     "execution_count": 65,
     "metadata": {},
     "output_type": "execute_result"
    }
   ],
   "source": [
    "score = test_model.evaluate(x_test, y_test)\n",
    "score"
   ]
  },
  {
   "cell_type": "code",
   "execution_count": 23,
   "metadata": {},
   "outputs": [],
   "source": [
    "#new_df.tail(20)"
   ]
  },
  {
   "cell_type": "code",
   "execution_count": 66,
   "metadata": {},
   "outputs": [
    {
     "data": {
      "text/plain": [
       "0.83633569739952707"
      ]
     },
     "execution_count": 66,
     "metadata": {},
     "output_type": "execute_result"
    }
   ],
   "source": [
    "new_pred = test_model.predict(x_test)\n",
    "#new_pred = (new_pred > 0.5).astype('int')\n",
    "new_score = roc_auc_score(y_test, new_pred)\n",
    "print('Acc: {}, AUC: {}' .format(score, new_score)"
   ]
  },
  {
   "cell_type": "code",
   "execution_count": 70,
   "metadata": {},
   "outputs": [
    {
     "name": "stdout",
     "output_type": "stream",
     "text": [
      "Acc: 0.811046511628, AUC: 0.8363356974\n"
     ]
    }
   ],
   "source": [
    "print('Acc: {}, AUC: {}' .format(score[1], new_score))"
   ]
  },
  {
   "cell_type": "code",
   "execution_count": 60,
   "metadata": {
    "scrolled": false
   },
   "outputs": [
    {
     "data": {
      "text/html": [
       "<div>\n",
       "<style scoped>\n",
       "    .dataframe tbody tr th:only-of-type {\n",
       "        vertical-align: middle;\n",
       "    }\n",
       "\n",
       "    .dataframe tbody tr th {\n",
       "        vertical-align: top;\n",
       "    }\n",
       "\n",
       "    .dataframe thead th {\n",
       "        text-align: right;\n",
       "    }\n",
       "</style>\n",
       "<table border=\"1\" class=\"dataframe\">\n",
       "  <thead>\n",
       "    <tr style=\"text-align: right;\">\n",
       "      <th></th>\n",
       "      <th>input_activation</th>\n",
       "      <th>input_dropout</th>\n",
       "      <th>input_nodes</th>\n",
       "      <th>layer_1_activation</th>\n",
       "      <th>layer_1_dropout</th>\n",
       "      <th>layer_1_nodes</th>\n",
       "      <th>layer_2_activation</th>\n",
       "      <th>layer_2_dropout</th>\n",
       "      <th>layer_2_nodes</th>\n",
       "      <th>layer_3_activation</th>\n",
       "      <th>layer_3_dropout</th>\n",
       "      <th>layer_3_nodes</th>\n",
       "      <th>model_layers</th>\n",
       "      <th>model_optimizers</th>\n",
       "      <th>model_size</th>\n",
       "      <th>score</th>\n",
       "    </tr>\n",
       "  </thead>\n",
       "  <tbody>\n",
       "    <tr>\n",
       "      <th>9</th>\n",
       "      <td>tanh</td>\n",
       "      <td>0.0</td>\n",
       "      <td>512</td>\n",
       "      <td>tanh</td>\n",
       "      <td>0.7</td>\n",
       "      <td>1024</td>\n",
       "      <td>tanh</td>\n",
       "      <td>0.5</td>\n",
       "      <td>512.0</td>\n",
       "      <td>NaN</td>\n",
       "      <td>NaN</td>\n",
       "      <td>NaN</td>\n",
       "      <td>2</td>\n",
       "      <td>sgd</td>\n",
       "      <td>128</td>\n",
       "      <td>0.809109</td>\n",
       "    </tr>\n",
       "    <tr>\n",
       "      <th>94</th>\n",
       "      <td>tanh</td>\n",
       "      <td>0.0</td>\n",
       "      <td>512</td>\n",
       "      <td>tanh</td>\n",
       "      <td>0.6</td>\n",
       "      <td>128</td>\n",
       "      <td>tanh</td>\n",
       "      <td>0.5</td>\n",
       "      <td>128.0</td>\n",
       "      <td>NaN</td>\n",
       "      <td>NaN</td>\n",
       "      <td>NaN</td>\n",
       "      <td>2</td>\n",
       "      <td>sgd</td>\n",
       "      <td>128</td>\n",
       "      <td>0.809109</td>\n",
       "    </tr>\n",
       "    <tr>\n",
       "      <th>0</th>\n",
       "      <td>relu</td>\n",
       "      <td>0.0</td>\n",
       "      <td>128</td>\n",
       "      <td>tanh</td>\n",
       "      <td>0.6</td>\n",
       "      <td>128</td>\n",
       "      <td>NaN</td>\n",
       "      <td>NaN</td>\n",
       "      <td>NaN</td>\n",
       "      <td>NaN</td>\n",
       "      <td>NaN</td>\n",
       "      <td>NaN</td>\n",
       "      <td>1</td>\n",
       "      <td>sgd</td>\n",
       "      <td>16</td>\n",
       "      <td>0.810078</td>\n",
       "    </tr>\n",
       "    <tr>\n",
       "      <th>35</th>\n",
       "      <td>relu</td>\n",
       "      <td>0.7</td>\n",
       "      <td>128</td>\n",
       "      <td>tanh</td>\n",
       "      <td>0.6</td>\n",
       "      <td>1024</td>\n",
       "      <td>tanh</td>\n",
       "      <td>0.5</td>\n",
       "      <td>128.0</td>\n",
       "      <td>NaN</td>\n",
       "      <td>NaN</td>\n",
       "      <td>NaN</td>\n",
       "      <td>2</td>\n",
       "      <td>adam</td>\n",
       "      <td>128</td>\n",
       "      <td>0.810078</td>\n",
       "    </tr>\n",
       "    <tr>\n",
       "      <th>48</th>\n",
       "      <td>tanh</td>\n",
       "      <td>0.0</td>\n",
       "      <td>128</td>\n",
       "      <td>tanh</td>\n",
       "      <td>0.7</td>\n",
       "      <td>64</td>\n",
       "      <td>tanh</td>\n",
       "      <td>0.5</td>\n",
       "      <td>128.0</td>\n",
       "      <td>NaN</td>\n",
       "      <td>NaN</td>\n",
       "      <td>NaN</td>\n",
       "      <td>2</td>\n",
       "      <td>sgd</td>\n",
       "      <td>128</td>\n",
       "      <td>0.810078</td>\n",
       "    </tr>\n",
       "    <tr>\n",
       "      <th>56</th>\n",
       "      <td>relu</td>\n",
       "      <td>0.5</td>\n",
       "      <td>128</td>\n",
       "      <td>tanh</td>\n",
       "      <td>0.7</td>\n",
       "      <td>128</td>\n",
       "      <td>NaN</td>\n",
       "      <td>NaN</td>\n",
       "      <td>NaN</td>\n",
       "      <td>NaN</td>\n",
       "      <td>NaN</td>\n",
       "      <td>NaN</td>\n",
       "      <td>1</td>\n",
       "      <td>adam</td>\n",
       "      <td>128</td>\n",
       "      <td>0.810078</td>\n",
       "    </tr>\n",
       "    <tr>\n",
       "      <th>72</th>\n",
       "      <td>tanh</td>\n",
       "      <td>0.0</td>\n",
       "      <td>128</td>\n",
       "      <td>tanh</td>\n",
       "      <td>0.6</td>\n",
       "      <td>128</td>\n",
       "      <td>tanh</td>\n",
       "      <td>0.5</td>\n",
       "      <td>128.0</td>\n",
       "      <td>NaN</td>\n",
       "      <td>NaN</td>\n",
       "      <td>NaN</td>\n",
       "      <td>2</td>\n",
       "      <td>sgd</td>\n",
       "      <td>128</td>\n",
       "      <td>0.810078</td>\n",
       "    </tr>\n",
       "    <tr>\n",
       "      <th>92</th>\n",
       "      <td>tanh</td>\n",
       "      <td>0.5</td>\n",
       "      <td>128</td>\n",
       "      <td>tanh</td>\n",
       "      <td>0.7</td>\n",
       "      <td>64</td>\n",
       "      <td>NaN</td>\n",
       "      <td>NaN</td>\n",
       "      <td>NaN</td>\n",
       "      <td>NaN</td>\n",
       "      <td>NaN</td>\n",
       "      <td>NaN</td>\n",
       "      <td>1</td>\n",
       "      <td>sgd</td>\n",
       "      <td>128</td>\n",
       "      <td>0.810078</td>\n",
       "    </tr>\n",
       "    <tr>\n",
       "      <th>30</th>\n",
       "      <td>tanh</td>\n",
       "      <td>0.5</td>\n",
       "      <td>128</td>\n",
       "      <td>tanh</td>\n",
       "      <td>0.6</td>\n",
       "      <td>128</td>\n",
       "      <td>NaN</td>\n",
       "      <td>NaN</td>\n",
       "      <td>NaN</td>\n",
       "      <td>NaN</td>\n",
       "      <td>NaN</td>\n",
       "      <td>NaN</td>\n",
       "      <td>1</td>\n",
       "      <td>sgd</td>\n",
       "      <td>128</td>\n",
       "      <td>0.811047</td>\n",
       "    </tr>\n",
       "    <tr>\n",
       "      <th>89</th>\n",
       "      <td>tanh</td>\n",
       "      <td>0.5</td>\n",
       "      <td>128</td>\n",
       "      <td>tanh</td>\n",
       "      <td>0.7</td>\n",
       "      <td>1024</td>\n",
       "      <td>NaN</td>\n",
       "      <td>NaN</td>\n",
       "      <td>NaN</td>\n",
       "      <td>NaN</td>\n",
       "      <td>NaN</td>\n",
       "      <td>NaN</td>\n",
       "      <td>1</td>\n",
       "      <td>sgd</td>\n",
       "      <td>128</td>\n",
       "      <td>0.811047</td>\n",
       "    </tr>\n",
       "  </tbody>\n",
       "</table>\n",
       "</div>"
      ],
      "text/plain": [
       "   input_activation  input_dropout  input_nodes layer_1_activation  \\\n",
       "9              tanh            0.0          512               tanh   \n",
       "94             tanh            0.0          512               tanh   \n",
       "0              relu            0.0          128               tanh   \n",
       "35             relu            0.7          128               tanh   \n",
       "48             tanh            0.0          128               tanh   \n",
       "56             relu            0.5          128               tanh   \n",
       "72             tanh            0.0          128               tanh   \n",
       "92             tanh            0.5          128               tanh   \n",
       "30             tanh            0.5          128               tanh   \n",
       "89             tanh            0.5          128               tanh   \n",
       "\n",
       "    layer_1_dropout  layer_1_nodes layer_2_activation  layer_2_dropout  \\\n",
       "9               0.7           1024               tanh              0.5   \n",
       "94              0.6            128               tanh              0.5   \n",
       "0               0.6            128                NaN              NaN   \n",
       "35              0.6           1024               tanh              0.5   \n",
       "48              0.7             64               tanh              0.5   \n",
       "56              0.7            128                NaN              NaN   \n",
       "72              0.6            128               tanh              0.5   \n",
       "92              0.7             64                NaN              NaN   \n",
       "30              0.6            128                NaN              NaN   \n",
       "89              0.7           1024                NaN              NaN   \n",
       "\n",
       "    layer_2_nodes layer_3_activation  layer_3_dropout  layer_3_nodes  \\\n",
       "9           512.0                NaN              NaN            NaN   \n",
       "94          128.0                NaN              NaN            NaN   \n",
       "0             NaN                NaN              NaN            NaN   \n",
       "35          128.0                NaN              NaN            NaN   \n",
       "48          128.0                NaN              NaN            NaN   \n",
       "56            NaN                NaN              NaN            NaN   \n",
       "72          128.0                NaN              NaN            NaN   \n",
       "92            NaN                NaN              NaN            NaN   \n",
       "30            NaN                NaN              NaN            NaN   \n",
       "89            NaN                NaN              NaN            NaN   \n",
       "\n",
       "    model_layers model_optimizers  model_size     score  \n",
       "9              2              sgd         128  0.809109  \n",
       "94             2              sgd         128  0.809109  \n",
       "0              1              sgd          16  0.810078  \n",
       "35             2             adam         128  0.810078  \n",
       "48             2              sgd         128  0.810078  \n",
       "56             1             adam         128  0.810078  \n",
       "72             2              sgd         128  0.810078  \n",
       "92             1              sgd         128  0.810078  \n",
       "30             1              sgd         128  0.811047  \n",
       "89             1              sgd         128  0.811047  "
      ]
     },
     "execution_count": 60,
     "metadata": {},
     "output_type": "execute_result"
    }
   ],
   "source": [
    "sorted_df= new_df.sort_values(by='score')\n",
    "sorted_df.tail(10)"
   ]
  },
  {
   "cell_type": "code",
   "execution_count": 67,
   "metadata": {},
   "outputs": [
    {
     "data": {
      "text/plain": [
       "{'input_activation': [0.28283863039999996, 0.71716136959999999],\n",
       " 'input_dropout': [0.40880982305450669,\n",
       "  0.017888538787839997,\n",
       "  0.017931488460799998,\n",
       "  0.46798347212117336,\n",
       "  0.017888538787839997,\n",
       "  0.069498138787839989],\n",
       " 'input_nodes': [0.021474836480000006,\n",
       "  0.055588509013333329,\n",
       "  0.84587330901333346,\n",
       "  0.055588509013333329,\n",
       "  0.021474836480000006],\n",
       " 'layer_1_activation': [0.053687091200000016, 0.94631290880000007],\n",
       " 'layer_1_dropout': [0.017888538787839997,\n",
       "  0.017888538787839997,\n",
       "  0.017931488460799998,\n",
       "  0.017888538787839997,\n",
       "  0.60646834465450672,\n",
       "  0.32193455052117337],\n",
       " 'layer_1_nodes': [0.021474836480000006,\n",
       "  0.13729350314666666,\n",
       "  0.55844504234666659,\n",
       "  0.055588509013333329,\n",
       "  0.22719810901333334],\n",
       " 'layer_2_activation': [nan, nan],\n",
       " 'layer_2_dropout': [nan, nan, nan, nan, nan, nan],\n",
       " 'layer_2_nodes': [nan, nan, nan, nan, nan],\n",
       " 'layer_3_activation': [nan, nan],\n",
       " 'layer_3_dropout': [nan, nan, nan, nan, nan, nan],\n",
       " 'layer_3_nodes': [nan, nan, nan, nan, nan],\n",
       " 'model_layers': [0.66307035272533343,\n",
       "  0.30149616708266663,\n",
       "  0.035433480192000003],\n",
       " 'model_optimizers': [0.89470330879999993, 0.1052966912],\n",
       " 'model_size': [0.021474836480000006,\n",
       "  0.19901677568000001,\n",
       "  0.021474836480000006,\n",
       "  0.021474836480000006,\n",
       "  0.73655871487999991]}"
      ]
     },
     "execution_count": 67,
     "metadata": {},
     "output_type": "execute_result"
    }
   ],
   "source": [
    "start_probs"
   ]
  },
  {
   "cell_type": "code",
   "execution_count": 34,
   "metadata": {},
   "outputs": [
    {
     "data": {
      "text/plain": [
       "array([[32, 34],\n",
       "       [ 4, 40]])"
      ]
     },
     "execution_count": 34,
     "metadata": {},
     "output_type": "execute_result"
    }
   ],
   "source": [
    "#preds = model.predict(x_test)\n",
    "evals = [1 if i > .15 else 0 for i in new_pred]\n",
    "cf = confusion_matrix(y_test, evals)\n",
    "cf"
   ]
  },
  {
   "cell_type": "code",
   "execution_count": 33,
   "metadata": {},
   "outputs": [],
   "source": [
    "#total_scores = new_df['score']\n",
    "#total_scores.rolling(window=3).mean().plot();"
   ]
  },
  {
   "cell_type": "code",
   "execution_count": null,
   "metadata": {},
   "outputs": [],
   "source": []
  }
 ],
 "metadata": {
  "kernelspec": {
   "display_name": "Python 2",
   "language": "python",
   "name": "python2"
  },
  "language_info": {
   "codemirror_mode": {
    "name": "ipython",
    "version": 2
   },
   "file_extension": ".py",
   "mimetype": "text/x-python",
   "name": "python",
   "nbconvert_exporter": "python",
   "pygments_lexer": "ipython2",
   "version": "2.7.15"
  }
 },
 "nbformat": 4,
 "nbformat_minor": 2
}
